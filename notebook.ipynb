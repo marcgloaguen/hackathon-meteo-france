{
 "cells": [
  {
   "cell_type": "code",
   "id": "319ed33edc543181",
   "metadata": {
    "ExecuteTime": {
     "end_time": "2024-04-08T13:14:09.675095Z",
     "start_time": "2024-04-08T13:14:09.666651Z"
    }
   },
   "source": [
    "from langchain_openai import OpenAI\n",
    "from langchain_core.prompts import PromptTemplate\n",
    "from langchain_core.runnables import RunnablePassthrough\n",
    "\n",
    "import requests\n",
    "from dotenv import load_dotenv\n",
    "import os\n",
    "load_dotenv()"
   ],
   "outputs": [
    {
     "data": {
      "text/plain": [
       "True"
      ]
     },
     "execution_count": 4,
     "metadata": {},
     "output_type": "execute_result"
    }
   ],
   "execution_count": 4
  },
  {
   "cell_type": "code",
   "id": "20c864ff1924563f",
   "metadata": {},
   "source": [
    "gpt_turbo = OpenAI(model_name=\"gpt-3.5-turbo-instruct\")"
   ],
   "outputs": [],
   "execution_count": null
  },
  {
   "cell_type": "code",
   "id": "b039ce3d6dd181d8",
   "metadata": {},
   "source": [
    "url = 'https://public-api.meteofrance.fr/public/DPVigilance/v1/textesvigilance/encours'\n",
    "headers = {\n",
    "    'accept': '*/*',\n",
    "    'apikey': os.environ['VIGILENCE_API_KEY']\n",
    "}\n",
    "response = requests.get(url, headers=headers)\n",
    "data = response.json()"
   ],
   "outputs": [],
   "execution_count": null
  },
  {
   "cell_type": "code",
   "id": "13481b61a92a86b9",
   "metadata": {},
   "source": [
    "def extract_text_items(data):\n",
    "    text_items = []\n",
    "    infos = [\n",
    "        region for region in data['product']['text_bloc_items'] \n",
    "        if len(region['bloc_items']) != 0 and region['bloc_id']=='BULLETIN_DEPARTEMENTAL'\n",
    "    ]\n",
    "    for info in infos:\n",
    "        for bloc_item in info.get('bloc_items', []):\n",
    "            for text_item in bloc_item.get('text_items', []):\n",
    "                for subdivision in text_item.get('term_items', []):\n",
    "                    for subdivision_text in subdivision.get('subdivision_text', []):\n",
    "                        text_items.append(\"\".join(subdivision_text.get('text', '')))\n",
    "    return text_items"
   ],
   "outputs": [],
   "execution_count": null
  },
  {
   "cell_type": "code",
   "id": "d1031afc5c224e31",
   "metadata": {},
   "source": [
    "infos = list(set(extract_text_items(data)))"
   ],
   "outputs": [],
   "execution_count": null
  },
  {
   "cell_type": "code",
   "id": "b2bd6640312c4bb4",
   "metadata": {},
   "source": [
    "template = \"\"\"\n",
    "Fait un résumé concis des informations suivantes : {informations}\n",
    "\"\"\""
   ],
   "outputs": [],
   "execution_count": null
  },
  {
   "cell_type": "code",
   "id": "92488992cc354293",
   "metadata": {},
   "source": [
    "prompt = PromptTemplate.from_template(template)\n"
   ],
   "outputs": [],
   "execution_count": null
  },
  {
   "cell_type": "code",
   "id": "f0abcf998b01122b",
   "metadata": {},
   "source": [
    "chain = (\n",
    "    {'informations':RunnablePassthrough()} \n",
    "    | prompt \n",
    "    | gpt_turbo\n",
    ")"
   ],
   "outputs": [],
   "execution_count": null
  },
  {
   "cell_type": "code",
   "id": "ff55ff2d52c7c538",
   "metadata": {},
   "source": [
    "infos"
   ],
   "outputs": [],
   "execution_count": null
  },
  {
   "cell_type": "code",
   "id": "815c7a3a3cb1eaa",
   "metadata": {},
   "source": [
    "answer = chain.invoke(infos)"
   ],
   "outputs": [],
   "execution_count": null
  },
  {
   "cell_type": "code",
   "id": "6f2fd388e1584729",
   "metadata": {},
   "source": [
    "print(answer)"
   ],
   "outputs": [],
   "execution_count": null
  },
  {
   "metadata": {
    "ExecuteTime": {
     "end_time": "2024-04-08T13:14:12.521293Z",
     "start_time": "2024-04-08T13:14:12.518754Z"
    }
   },
   "cell_type": "code",
   "source": "from module import *",
   "id": "bd16569313df916b",
   "outputs": [],
   "execution_count": 5
  },
  {
   "metadata": {
    "ExecuteTime": {
     "end_time": "2024-04-08T13:14:12.799190Z",
     "start_time": "2024-04-08T13:14:12.797295Z"
    }
   },
   "cell_type": "code",
   "source": [
    "openai_key = os.environ[\"OPENAI_API_KEY\"]\n",
    "vigilance_key = os.environ[\"VIGILENCE_API_KEY\"]"
   ],
   "id": "1f9da53bf13868e3",
   "outputs": [],
   "execution_count": 6
  },
  {
   "cell_type": "code",
   "id": "acde34edf095362d",
   "metadata": {
    "ExecuteTime": {
     "end_time": "2024-04-08T13:14:17.164090Z",
     "start_time": "2024-04-08T13:14:13.532541Z"
    }
   },
   "source": [
    "news = extract_news(vigilance_key)\n",
    "llm = gpt_from_api(openai_key)\n",
    "summary = summarize_news(llm, news)"
   ],
   "outputs": [],
   "execution_count": 7
  },
  {
   "metadata": {},
   "cell_type": "code",
   "source": "llm = gpt_from_api(openai_key)",
   "id": "807c757283442f60",
   "outputs": [],
   "execution_count": null
  },
  {
   "metadata": {},
   "cell_type": "code",
   "source": "llm = OpenAI(model_name=\"gpt-3.5-turbo-instruct\")",
   "id": "edc1113a09ac1d5a",
   "outputs": [],
   "execution_count": null
  },
  {
   "metadata": {},
   "cell_type": "code",
   "source": "from langchain_openai import OpenAI",
   "id": "1e037a6a72856833",
   "outputs": [],
   "execution_count": null
  },
  {
   "metadata": {},
   "cell_type": "code",
   "source": "",
   "id": "84f7507dc8c7ea3c",
   "outputs": [],
   "execution_count": null
  }
 ],
 "metadata": {
  "kernelspec": {
   "display_name": "Python 3",
   "language": "python",
   "name": "python3"
  },
  "language_info": {
   "codemirror_mode": {
    "name": "ipython",
    "version": 2
   },
   "file_extension": ".py",
   "mimetype": "text/x-python",
   "name": "python",
   "nbconvert_exporter": "python",
   "pygments_lexer": "ipython2",
   "version": "3.11.5"
  }
 },
 "nbformat": 4,
 "nbformat_minor": 5
}
