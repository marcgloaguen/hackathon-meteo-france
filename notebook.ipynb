{
 "cells": [
  {
   "cell_type": "code",
   "execution_count": 3,
   "id": "319ed33edc543181",
   "metadata": {
    "ExecuteTime": {
     "end_time": "2024-04-08T11:29:23.768850Z",
     "start_time": "2024-04-08T11:29:23.763967Z"
    }
   },
   "outputs": [
    {
     "data": {
      "text/plain": [
       "True"
      ]
     },
     "execution_count": 3,
     "metadata": {},
     "output_type": "execute_result"
    }
   ],
   "source": [
    "from langchain_openai import OpenAI\n",
    "from langchain_core.prompts import PromptTemplate, MessagesPlaceholder\n",
    "from langchain_openai import OpenAIEmbeddings\n",
    "from langchain_pinecone import PineconeVectorStore\n",
    "from langchain_core.runnables import RunnablePassthrough\n",
    "from langchain_core.output_parsers import StrOutputParser\n",
    "from langchain_core.messages import HumanMessage\n",
    "from langchain.chains.combine_documents.stuff import StuffDocumentsChain\n",
    "from dotenv import load_dotenv\n",
    "import os\n",
    "load_dotenv()"
   ]
  },
  {
   "cell_type": "code",
   "execution_count": 4,
   "id": "20c864ff1924563f",
   "metadata": {
    "ExecuteTime": {
     "end_time": "2024-04-08T10:43:54.680568Z",
     "start_time": "2024-04-08T10:43:54.628035Z"
    }
   },
   "outputs": [],
   "source": [
    "gpt_turbo = OpenAI(model_name=\"gpt-3.5-turbo-instruct\")"
   ]
  },
  {
   "cell_type": "code",
   "execution_count": 5,
   "id": "b039ce3d6dd181d8",
   "metadata": {
    "ExecuteTime": {
     "end_time": "2024-04-08T10:52:45.158087Z",
     "start_time": "2024-04-08T10:52:45.012221Z"
    }
   },
   "outputs": [],
   "source": [
    "import requests\n",
    "url = 'https://public-api.meteofrance.fr/public/DPVigilance/v1/textesvigilance/encours'\n",
    "headers = {\n",
    "    'accept': '*/*',\n",
    "    'apikey': os.environ['VIGILENCE_API_KEY']\n",
    "}\n",
    "response = requests.get(url, headers=headers)\n",
    "data = response.json()"
   ]
  },
  {
   "cell_type": "code",
   "execution_count": 6,
   "id": "13481b61a92a86b9",
   "metadata": {
    "ExecuteTime": {
     "end_time": "2024-04-08T10:52:45.553680Z",
     "start_time": "2024-04-08T10:52:45.550644Z"
    }
   },
   "outputs": [],
   "source": [
    "def extract_text_items(data):\n",
    "    text_items = []\n",
    "    infos = [\n",
    "        region for region in data['product']['text_bloc_items'] \n",
    "        if len(region['bloc_items']) != 0 and region['bloc_id']=='BULLETIN_DEPARTEMENTAL'\n",
    "    ]\n",
    "    for info in infos:\n",
    "        for bloc_item in info.get('bloc_items', []):\n",
    "            for text_item in bloc_item.get('text_items', []):\n",
    "                for subdivision in text_item.get('term_items', []):\n",
    "                    for subdivision_text in subdivision.get('subdivision_text', []):\n",
    "                        text_items.append(\"\".join(subdivision_text.get('text', '')))\n",
    "    return text_items"
   ]
  },
  {
   "cell_type": "code",
   "execution_count": 7,
   "id": "d1031afc5c224e31",
   "metadata": {
    "ExecuteTime": {
     "end_time": "2024-04-08T11:37:21.574881Z",
     "start_time": "2024-04-08T11:37:21.571444Z"
    }
   },
   "outputs": [],
   "source": [
    "infos = list(set(extract_text_items(data)))"
   ]
  },
  {
   "cell_type": "code",
   "execution_count": 8,
   "id": "b2bd6640312c4bb4",
   "metadata": {
    "ExecuteTime": {
     "end_time": "2024-04-08T11:37:22.092333Z",
     "start_time": "2024-04-08T11:37:22.089744Z"
    }
   },
   "outputs": [],
   "source": [
    "template = \"\"\"\n",
    "Fait un résumé concis des informations suivantes : {informations}\n",
    "\"\"\""
   ]
  },
  {
   "cell_type": "code",
   "execution_count": 9,
   "id": "92488992cc354293",
   "metadata": {
    "ExecuteTime": {
     "end_time": "2024-04-08T11:37:22.444837Z",
     "start_time": "2024-04-08T11:37:22.442731Z"
    }
   },
   "outputs": [],
   "source": [
    "prompt = PromptTemplate.from_template(template)\n"
   ]
  },
  {
   "cell_type": "code",
   "execution_count": 10,
   "id": "f0abcf998b01122b",
   "metadata": {
    "ExecuteTime": {
     "end_time": "2024-04-08T11:37:22.787360Z",
     "start_time": "2024-04-08T11:37:22.784849Z"
    }
   },
   "outputs": [],
   "source": [
    "chain = (\n",
    "    {'informations':RunnablePassthrough()} \n",
    "    | prompt \n",
    "    | gpt_turbo\n",
    ")"
   ]
  },
  {
   "cell_type": "code",
   "execution_count": 11,
   "id": "ff55ff2d52c7c538",
   "metadata": {
    "ExecuteTime": {
     "end_time": "2024-04-08T11:37:31.491635Z",
     "start_time": "2024-04-08T11:37:31.487847Z"
    }
   },
   "outputs": [
    {
     "data": {
      "text/plain": [
       "['Lundi, \"PIERRICK\" est accompagnée de vents très forts de secteur Ouest au large de la pointe bretonne.Ces vents engendrent de fortes vagues de Sud-Ouest qui atteignent le littoral nord de la façade atlantique en fin de journée de lundi et sont particulièrement marquées sur l\\'ouest du Finistère.De plus, les niveaux d\\'eau sont élevés avec des coefficients de marée en hausse (109 à la pleine mer de lundi 18h) et une surélévation du niveau de la mer due aux conditions atmosphériques (surcote).La conjonction de ces très fortes vagues et de ces niveaux d\\'eau élevés peut occasionner des submersions marines par franchissement de paquets de mer sur les zones exposées du littoral du Finistère lundi en fin de journée, placé en vigilance \"vagues-submersion\" orange.Dans une moindre mesure, le littoral du Morbihan, de la Loire-Atlantique et de la Vendée est placé en vigilance jaune \"vagues-submersion\".Heure de pleine mer à Brest lundi : 17h50.',\n",
       " 'Conjonction de grandes marées et de fortes vagues nécessitant une vigilance toute particulière.',\n",
       " 'Tempête tardive pour la saison, sans caractère exceptionnel, engendrant des vents violents, de fortes vagues et un risque de submersion côtière.',\n",
       " 'Une incertitude persiste sur le positionnement exacte du creusement lié à PIERRICK. Ainsi on privilégie un scénario avec de violentes rafales (autour de 110 km/h dans les terres) principalement sur un quart nord-Ouest du Finistère et proche du littoral, mais un positionnement légèrement plus sud pourrait apporter également des vents d\\'une violence similaire sur le sud du département. Une aggravation de la vigilance \"vagues-submersion\" pour les départements de l\\'est de la Manche n\\'est pas exclue pour la marée haute de mardi après-midi.',\n",
       " \"La dépression PIERRICK concerne dans un premier temps le Finistère cet après-midi jusqu'en soirée. La dépression se décale ensuite vers l'est et donne encore de fortes rafales sur le département des Côtes d'Armor puis concerne le département de la Manche la nuit suivante. On attend 120 à 130 km/h sur les îles et à la côte du Finistère, autour de 110 km/h proche des littoraux et sur un quart nord-ouest du Finistère, 90 à ponctuellement plus de 100 km/h ailleurs sur le département. \",\n",
       " \"Faits nouveaux : passage en vigilance orange vent violents sur le Finistère pour un début d'évènement à 16h ce lundi. Situation générale : Une dépression nommée PIERRICK se présente en entrée de Manche, proche du nord Finistère en ce début d'après-midi de lundi puis circule le long des côtes sud de l'Angleterre, engendrant des vents violents et un risque de vagues-submersion.\",\n",
       " 'Mardi, \"PIERRICK\" circule sur l\\'Angleterre et se décale en Mer du Nord.Dans sa partie sud, les vents de secteur Ouest sont forts en Manche et génèrent de fortes vagues.Dans un contexte de grandes marées, la conjonction de hauts niveaux d\\'eau et de fortes vagues induit un risque marqué de \"vagues-submersion\" autour de la marée haute de mardi matin (coefficient 112) pour les départements du Finistère, des Côtes-d\\'Armor, de l\\'Ille-et-Vilaine et de l\\'ouest de la Manche, placés en vigilance \"vagues-submersion\" de niveau orange. Les heures de pleines mers sont les suivantes : Roscoff 07h25, Paimpol 08h26, Saint-Malo 08h31, Granville 08h40.Dans le même temps, une houle de Nord-Ouest se propage dans le golfe de Gascogne. Tous les départements de la façade atlantique sont alors placés en vigilance \"vagues-submersion\" de niveau jaune pour mardi matin. La pleine mer est entre 05h30 et 06h.Pour la marée haute de mardi après-midi, les départements du Calvados, de la Seine-Maritime, de la Somme et du Pas de Calais sont placés en vigilance vagues-submersion de niveau jaune.La pleine mer est vers 12h au Havre et 13h30 à Boulogne-sur-Mer.']"
      ]
     },
     "execution_count": 11,
     "metadata": {},
     "output_type": "execute_result"
    }
   ],
   "source": [
    "infos"
   ]
  },
  {
   "cell_type": "code",
   "execution_count": 12,
   "id": "815c7a3a3cb1eaa",
   "metadata": {
    "ExecuteTime": {
     "end_time": "2024-04-08T11:37:26.292418Z",
     "start_time": "2024-04-08T11:37:23.141713Z"
    }
   },
   "outputs": [],
   "source": [
    "answer = chain.invoke(infos)"
   ]
  },
  {
   "cell_type": "code",
   "execution_count": 13,
   "id": "6f2fd388e1584729",
   "metadata": {
    "ExecuteTime": {
     "end_time": "2024-04-08T11:37:26.298719Z",
     "start_time": "2024-04-08T11:37:26.295037Z"
    }
   },
   "outputs": [
    {
     "name": "stdout",
     "output_type": "stream",
     "text": [
      "\n",
      "Le lundi, la dépression \"PIERRICK\" apporte des vents très forts et des vagues de Sud-Ouest au large de la pointe bretonne, créant un risque de submersion côtière sur le littoral nord de la façade atlantique en fin de journée. Les niveaux d'eau sont également élevés en raison des coefficients de marée en hausse et d'une surélévation due aux conditions atmosphériques. Les départements du Finistère, du Morbihan, de la Loire-Atlantique et de la Vendée sont placés en vigilance \"vagues-submersion\" orange et jaune. La tempête tardive pour la saison n'est pas exceptionnelle et présente une incertitude sur son positionnement exact. Le mardi, la dépression se décale vers l'est et engendre des vents violents et un risque de vagues-submersion en Manche. Les heures de pleine mer sont à surveiller pour les départements du Finistère, des Côtes-d'Armor, de l'Ille-et-Vilaine, de la Manche, du Calvados, de la Se\n"
     ]
    }
   ],
   "source": [
    "print(answer)"
   ]
  },
  {
   "cell_type": "code",
   "execution_count": 14,
   "id": "2c0ca40ca258bc84",
   "metadata": {
    "ExecuteTime": {
     "end_time": "2024-04-08T11:37:55.471706Z",
     "start_time": "2024-04-08T11:37:51.948719Z"
    }
   },
   "outputs": [],
   "source": [
    "answer = chain.invoke(\", \".join(infos))"
   ]
  },
  {
   "cell_type": "code",
   "execution_count": 15,
   "id": "f520be49fdc507d3",
   "metadata": {
    "ExecuteTime": {
     "end_time": "2024-04-08T11:37:58.398942Z",
     "start_time": "2024-04-08T11:37:58.396209Z"
    }
   },
   "outputs": [
    {
     "name": "stdout",
     "output_type": "stream",
     "text": [
      "\n",
      "Lundi, la dépression \"PIERRICK\" engendre des vents violents et de fortes vagues sur la pointe bretonne, avec un risque de submersion côtière dans le Finistère et les départements voisins. Les coefficients de marée sont élevés et une surélévation du niveau de la mer est attendue. Mardi, la dépression se déplace vers l'est, avec des vents forts et un risque de submersion sur la Manche et la façade atlantique. Les heures de pleine mer sont à surveiller pour les départements concernés.\n"
     ]
    }
   ],
   "source": [
    "print(answer)"
   ]
  },
  {
   "cell_type": "code",
   "execution_count": null,
   "id": "b289e393ea6ec936",
   "metadata": {},
   "outputs": [],
   "source": []
  }
 ],
 "metadata": {
  "kernelspec": {
   "display_name": "Python 3",
   "language": "python",
   "name": "python3"
  },
  "language_info": {
   "codemirror_mode": {
    "name": "ipython",
    "version": 3
   },
   "file_extension": ".py",
   "mimetype": "text/x-python",
   "name": "python",
   "nbconvert_exporter": "python",
   "pygments_lexer": "ipython3",
   "version": "3.11.5"
  }
 },
 "nbformat": 4,
 "nbformat_minor": 5
}
