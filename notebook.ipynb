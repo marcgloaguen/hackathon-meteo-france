{
 "cells": [
  {
   "metadata": {
    "ExecuteTime": {
     "end_time": "2024-04-08T12:23:32.323559Z",
     "start_time": "2024-04-08T12:23:32.319534Z"
    }
   },
   "cell_type": "code",
   "source": [
    "from langchain_openai import OpenAI\n",
    "from langchain_core.prompts import PromptTemplate\n",
    "from langchain_core.runnables import RunnablePassthrough\n",
    "\n",
    "import requests\n",
    "from dotenv import load_dotenv\n",
    "import os\n",
    "load_dotenv()"
   ],
   "id": "319ed33edc543181",
   "outputs": [
    {
     "data": {
      "text/plain": [
       "True"
      ]
     },
     "execution_count": 33,
     "metadata": {},
     "output_type": "execute_result"
    }
   ],
   "execution_count": 33
  },
  {
   "metadata": {
    "ExecuteTime": {
     "end_time": "2024-04-08T12:23:32.605389Z",
     "start_time": "2024-04-08T12:23:32.570082Z"
    }
   },
   "cell_type": "code",
   "source": "gpt_turbo = OpenAI(model_name=\"gpt-3.5-turbo-instruct\")",
   "id": "20c864ff1924563f",
   "outputs": [],
   "execution_count": 34
  },
  {
   "metadata": {
    "ExecuteTime": {
     "end_time": "2024-04-08T12:23:33.081117Z",
     "start_time": "2024-04-08T12:23:32.912737Z"
    }
   },
   "cell_type": "code",
   "source": [
    "url = 'https://public-api.meteofrance.fr/public/DPVigilance/v1/textesvigilance/encours'\n",
    "headers = {\n",
    "    'accept': '*/*',\n",
    "    'apikey': os.environ['VIGILENCE_API_KEY']\n",
    "}\n",
    "response = requests.get(url, headers=headers)\n",
    "data = response.json()"
   ],
   "id": "b039ce3d6dd181d8",
   "outputs": [],
   "execution_count": 35
  },
  {
   "metadata": {
    "ExecuteTime": {
     "end_time": "2024-04-08T12:23:33.959150Z",
     "start_time": "2024-04-08T12:23:33.956425Z"
    }
   },
   "cell_type": "code",
   "source": [
    "def extract_text_items(data):\n",
    "    text_items = []\n",
    "    infos = [\n",
    "        region for region in data['product']['text_bloc_items'] \n",
    "        if len(region['bloc_items']) != 0 and region['bloc_id']=='BULLETIN_DEPARTEMENTAL'\n",
    "    ]\n",
    "    for info in infos:\n",
    "        for bloc_item in info.get('bloc_items', []):\n",
    "            for text_item in bloc_item.get('text_items', []):\n",
    "                for subdivision in text_item.get('term_items', []):\n",
    "                    for subdivision_text in subdivision.get('subdivision_text', []):\n",
    "                        text_items.append(\"\".join(subdivision_text.get('text', '')))\n",
    "    return text_items"
   ],
   "id": "13481b61a92a86b9",
   "outputs": [],
   "execution_count": 36
  },
  {
   "metadata": {
    "ExecuteTime": {
     "end_time": "2024-04-08T12:23:34.455445Z",
     "start_time": "2024-04-08T12:23:34.453611Z"
    }
   },
   "cell_type": "code",
   "source": "infos = list(set(extract_text_items(data)))",
   "id": "d1031afc5c224e31",
   "outputs": [],
   "execution_count": 37
  },
  {
   "metadata": {
    "ExecuteTime": {
     "end_time": "2024-04-08T12:23:35.191251Z",
     "start_time": "2024-04-08T12:23:35.189555Z"
    }
   },
   "cell_type": "code",
   "source": [
    "template = \"\"\"\n",
    "Fait un résumé concis des informations suivantes : {informations}\n",
    "\"\"\""
   ],
   "id": "b2bd6640312c4bb4",
   "outputs": [],
   "execution_count": 38
  },
  {
   "metadata": {
    "ExecuteTime": {
     "end_time": "2024-04-08T12:23:35.557477Z",
     "start_time": "2024-04-08T12:23:35.555606Z"
    }
   },
   "cell_type": "code",
   "source": "prompt = PromptTemplate.from_template(template)\n",
   "id": "92488992cc354293",
   "outputs": [],
   "execution_count": 39
  },
  {
   "metadata": {
    "ExecuteTime": {
     "end_time": "2024-04-08T12:23:35.975938Z",
     "start_time": "2024-04-08T12:23:35.973610Z"
    }
   },
   "cell_type": "code",
   "source": [
    "chain = (\n",
    "    {'informations':RunnablePassthrough()} \n",
    "    | prompt \n",
    "    | gpt_turbo\n",
    ")"
   ],
   "id": "f0abcf998b01122b",
   "outputs": [],
   "execution_count": 40
  },
  {
   "metadata": {
    "ExecuteTime": {
     "end_time": "2024-04-08T12:23:36.390571Z",
     "start_time": "2024-04-08T12:23:36.388320Z"
    }
   },
   "cell_type": "code",
   "source": "infos",
   "id": "ff55ff2d52c7c538",
   "outputs": [
    {
     "data": {
      "text/plain": [
       "[\"Faits nouveaux : passage en vigilance orange vent violents sur le Finistère pour un début d'évènement à 16h ce lundi. Situation générale : Une dépression nommée PIERRICK se présente en entrée de Manche, proche du nord Finistère en ce début d'après-midi de lundi puis circule le long des côtes sud de l'Angleterre, engendrant des vents violents et un risque de vagues-submersion.\",\n",
       " 'Une incertitude persiste sur le positionnement exacte du creusement lié à PIERRICK. Ainsi on privilégie un scénario avec de violentes rafales (autour de 110 km/h dans les terres) principalement sur un quart nord-Ouest du Finistère et proche du littoral, mais un positionnement légèrement plus sud pourrait apporter également des vents d\\'une violence similaire sur le sud du département. Une aggravation de la vigilance \"vagues-submersion\" pour les départements de l\\'est de la Manche n\\'est pas exclue pour la marée haute de mardi après-midi.',\n",
       " 'Conjonction de grandes marées et de fortes vagues nécessitant une vigilance toute particulière.',\n",
       " 'Tempête tardive pour la saison, sans caractère exceptionnel, engendrant des vents violents, de fortes vagues et un risque de submersion côtière.',\n",
       " 'Mardi, \"PIERRICK\" circule sur l\\'Angleterre et se décale en Mer du Nord.Dans sa partie sud, les vents de secteur Ouest sont forts en Manche et génèrent de fortes vagues.Dans un contexte de grandes marées, la conjonction de hauts niveaux d\\'eau et de fortes vagues induit un risque marqué de \"vagues-submersion\" autour de la marée haute de mardi matin (coefficient 112) pour les départements du Finistère, des Côtes-d\\'Armor, de l\\'Ille-et-Vilaine et de l\\'ouest de la Manche, placés en vigilance \"vagues-submersion\" de niveau orange. Les heures de pleines mers sont les suivantes : Roscoff 07h25, Paimpol 08h26, Saint-Malo 08h31, Granville 08h40.Dans le même temps, une houle de Nord-Ouest se propage dans le golfe de Gascogne. Tous les départements de la façade atlantique sont alors placés en vigilance \"vagues-submersion\" de niveau jaune pour mardi matin. La pleine mer est entre 05h30 et 06h.Pour la marée haute de mardi après-midi, les départements du Calvados, de la Seine-Maritime, de la Somme et du Pas de Calais sont placés en vigilance vagues-submersion de niveau jaune.La pleine mer est vers 12h au Havre et 13h30 à Boulogne-sur-Mer.',\n",
       " \"La dépression PIERRICK concerne dans un premier temps le Finistère cet après-midi jusqu'en soirée. La dépression se décale ensuite vers l'est et donne encore de fortes rafales sur le département des Côtes d'Armor puis concerne le département de la Manche la nuit suivante. On attend 120 à 130 km/h sur les îles et à la côte du Finistère, autour de 110 km/h proche des littoraux et sur un quart nord-ouest du Finistère, 90 à ponctuellement plus de 100 km/h ailleurs sur le département. \",\n",
       " 'Lundi, \"PIERRICK\" est accompagnée de vents très forts de secteur Ouest au large de la pointe bretonne.Ces vents engendrent de fortes vagues de Sud-Ouest qui atteignent le littoral nord de la façade atlantique en fin de journée de lundi et sont particulièrement marquées sur l\\'ouest du Finistère.De plus, les niveaux d\\'eau sont élevés avec des coefficients de marée en hausse (109 à la pleine mer de lundi 18h) et une surélévation du niveau de la mer due aux conditions atmosphériques (surcote).La conjonction de ces très fortes vagues et de ces niveaux d\\'eau élevés peut occasionner des submersions marines par franchissement de paquets de mer sur les zones exposées du littoral du Finistère lundi en fin de journée, placé en vigilance \"vagues-submersion\" orange.Dans une moindre mesure, le littoral du Morbihan, de la Loire-Atlantique et de la Vendée est placé en vigilance jaune \"vagues-submersion\".Heure de pleine mer à Brest lundi : 17h50.']"
      ]
     },
     "execution_count": 41,
     "metadata": {},
     "output_type": "execute_result"
    }
   ],
   "execution_count": 41
  },
  {
   "metadata": {
    "ExecuteTime": {
     "end_time": "2024-04-08T12:23:39.229380Z",
     "start_time": "2024-04-08T12:23:36.770120Z"
    }
   },
   "cell_type": "code",
   "source": "answer = chain.invoke(infos)",
   "id": "815c7a3a3cb1eaa",
   "outputs": [],
   "execution_count": 42
  },
  {
   "metadata": {
    "ExecuteTime": {
     "end_time": "2024-04-08T12:23:39.234260Z",
     "start_time": "2024-04-08T12:23:39.231631Z"
    }
   },
   "cell_type": "code",
   "source": "print(answer)",
   "id": "6f2fd388e1584729",
   "outputs": [
    {
     "name": "stdout",
     "output_type": "stream",
     "text": [
      "\n",
      "La dépression PIERRICK se déplace vers l'est et provoque des vents violents et de fortes vagues sur la côte ouest de la France. Une vigilance orange est en place pour le Finistère et une vigilance jaune pour les autres départements de la façade atlantique. Les niveaux d'eau sont élevés en raison des grandes marées et peuvent causer des submersions marines. La dépression continuera à se déplacer vers l'est et affectera également les départements de la Manche et du Calvados. Des rafales de vent jusqu'à 130 km/h sont prévues sur les îles et la côte du Finistère. \n"
     ]
    }
   ],
   "execution_count": 43
  },
  {
   "metadata": {},
   "cell_type": "code",
   "outputs": [],
   "execution_count": null,
   "source": "",
   "id": "acde34edf095362d"
  }
 ],
 "metadata": {
  "kernelspec": {
   "display_name": "Python 3",
   "language": "python",
   "name": "python3"
  },
  "language_info": {
   "codemirror_mode": {
    "name": "ipython",
    "version": 2
   },
   "file_extension": ".py",
   "mimetype": "text/x-python",
   "name": "python",
   "nbconvert_exporter": "python",
   "pygments_lexer": "ipython2",
   "version": "2.7.6"
  }
 },
 "nbformat": 4,
 "nbformat_minor": 5
}
