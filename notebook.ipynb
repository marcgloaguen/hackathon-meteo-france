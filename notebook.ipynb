{
 "cells": [
  {
   "metadata": {
    "ExecuteTime": {
     "end_time": "2024-04-08T10:43:54.626558Z",
     "start_time": "2024-04-08T10:43:54.162517Z"
    }
   },
   "cell_type": "code",
   "source": [
    "from langchain_openai import OpenAI\n",
    "from langchain_core.prompts import PromptTemplate, MessagesPlaceholder\n",
    "from langchain_openai import OpenAIEmbeddings\n",
    "from langchain_pinecone import PineconeVectorStore\n",
    "from langchain_core.runnables import RunnablePassthrough\n",
    "from langchain_core.output_parsers import StrOutputParser\n",
    "from langchain_core.messages import HumanMessage\n",
    "from dotenv import load_dotenv\n",
    "import os\n",
    "load_dotenv()"
   ],
   "id": "319ed33edc543181",
   "outputs": [
    {
     "data": {
      "text/plain": [
       "True"
      ]
     },
     "execution_count": 3,
     "metadata": {},
     "output_type": "execute_result"
    }
   ],
   "execution_count": 3
  },
  {
   "metadata": {
    "ExecuteTime": {
     "end_time": "2024-04-08T10:43:54.680568Z",
     "start_time": "2024-04-08T10:43:54.628035Z"
    }
   },
   "cell_type": "code",
   "source": "gpt_turbo = OpenAI(model_name=\"gpt-3.5-turbo-instruct\")",
   "id": "20c864ff1924563f",
   "outputs": [],
   "execution_count": 4
  },
  {
   "metadata": {
    "ExecuteTime": {
     "end_time": "2024-04-08T10:52:45.158087Z",
     "start_time": "2024-04-08T10:52:45.012221Z"
    }
   },
   "cell_type": "code",
   "source": [
    "import requests\n",
    "url = 'https://public-api.meteofrance.fr/public/DPVigilance/v1/textesvigilance/encours'\n",
    "headers = {\n",
    "    'accept': '*/*',\n",
    "    'apikey': os.environ['VIGILENCE_API_KEY']\n",
    "}\n",
    "response = requests.get(url, headers=headers)\n",
    "data = response.json()"
   ],
   "id": "b039ce3d6dd181d8",
   "outputs": [],
   "execution_count": 33
  },
  {
   "metadata": {
    "ExecuteTime": {
     "end_time": "2024-04-08T10:52:45.553680Z",
     "start_time": "2024-04-08T10:52:45.550644Z"
    }
   },
   "cell_type": "code",
   "source": [
    "def extract_text_items(data):\n",
    "    text_items = []\n",
    "    infos = [\n",
    "        region for region in data['product']['text_bloc_items'] \n",
    "        if len(region['bloc_items']) != 0 and region['bloc_id']=='BULLETIN_DEPARTEMENTAL'\n",
    "    ]\n",
    "    for info in infos:\n",
    "        for bloc_item in info.get('bloc_items', []):\n",
    "            for text_item in bloc_item.get('text_items', []):\n",
    "                for subdivision in text_item.get('term_items', []):\n",
    "                    for subdivision_text in subdivision.get('subdivision_text', []):\n",
    "                        text_items.append(\"\".join(subdivision_text.get('text', '')))\n",
    "    return text_items"
   ],
   "id": "13481b61a92a86b9",
   "outputs": [],
   "execution_count": 34
  },
  {
   "metadata": {
    "ExecuteTime": {
     "end_time": "2024-04-08T10:52:46.014681Z",
     "start_time": "2024-04-08T10:52:46.012757Z"
    }
   },
   "cell_type": "code",
   "source": "infos = list(set(extract_text_items(data)))",
   "id": "d1031afc5c224e31",
   "outputs": [],
   "execution_count": 35
  },
  {
   "metadata": {
    "ExecuteTime": {
     "end_time": "2024-04-08T10:52:46.761897Z",
     "start_time": "2024-04-08T10:52:46.759700Z"
    }
   },
   "cell_type": "code",
   "source": [
    "template = \"\"\"\n",
    "Voici les informations concernant les vigilences du jour peux tu me faire un résumé en français : {informations}\n",
    "\"\"\""
   ],
   "id": "b2bd6640312c4bb4",
   "outputs": [],
   "execution_count": 36
  },
  {
   "metadata": {
    "ExecuteTime": {
     "end_time": "2024-04-08T10:52:46.998097Z",
     "start_time": "2024-04-08T10:52:46.996098Z"
    }
   },
   "cell_type": "code",
   "source": "prompt = PromptTemplate.from_template(template)\n",
   "id": "92488992cc354293",
   "outputs": [],
   "execution_count": 37
  },
  {
   "metadata": {
    "ExecuteTime": {
     "end_time": "2024-04-08T10:52:48.578506Z",
     "start_time": "2024-04-08T10:52:48.576516Z"
    }
   },
   "cell_type": "code",
   "source": "chain = {'informations':RunnablePassthrough() } | prompt | gpt_turbo",
   "id": "f0abcf998b01122b",
   "outputs": [],
   "execution_count": 39
  },
  {
   "metadata": {
    "ExecuteTime": {
     "end_time": "2024-04-08T10:52:51.912758Z",
     "start_time": "2024-04-08T10:52:48.780770Z"
    }
   },
   "cell_type": "code",
   "source": "chain.invoke(infos)",
   "id": "815c7a3a3cb1eaa",
   "outputs": [
    {
     "data": {
      "text/plain": [
       "'\\nAujourd\\'hui, la vigilance concerne principalement le Finistère, où des vents violents sont attendus avec l\\'arrivée de la dépression PIERRICK. Celle-ci devrait ensuite se déplacer vers l\\'est, touchant également les départements des Côtes d\\'Armor et de la Manche avec des rafales pouvant atteindre jusqu\\'à 130 km/h. Une incertitude persiste quant au positionnement exact de la dépression, mais il est prévu qu\\'elle provoque également des vents forts dans les terres et sur la côte sud du Finistère. Une alerte pour les risques de vagues-submersion a également été émise pour les départements de l\\'est de la Manche. Demain, la dépression se déplacera vers l\\'Angleterre et la Mer du Nord, générant de fortes vagues sur la Manche et la côte atlantique. Les départements placés en vigilance \"vagues-submersion\" de niveau orange sont ceux du Finistère, des Côtes d\\'Armor, de l\\'Ille-et-Vilaine et de l\\'ouest de la Manche'"
      ]
     },
     "execution_count": 40,
     "metadata": {},
     "output_type": "execute_result"
    }
   ],
   "execution_count": 40
  },
  {
   "metadata": {
    "ExecuteTime": {
     "end_time": "2024-04-08T10:10:21.601010Z",
     "start_time": "2024-04-08T10:10:21.596336Z"
    }
   },
   "cell_type": "code",
   "source": "",
   "id": "6f2fd388e1584729",
   "outputs": [],
   "execution_count": 120
  }
 ],
 "metadata": {
  "kernelspec": {
   "display_name": "Python 3",
   "language": "python",
   "name": "python3"
  },
  "language_info": {
   "codemirror_mode": {
    "name": "ipython",
    "version": 2
   },
   "file_extension": ".py",
   "mimetype": "text/x-python",
   "name": "python",
   "nbconvert_exporter": "python",
   "pygments_lexer": "ipython2",
   "version": "2.7.6"
  }
 },
 "nbformat": 4,
 "nbformat_minor": 5
}
