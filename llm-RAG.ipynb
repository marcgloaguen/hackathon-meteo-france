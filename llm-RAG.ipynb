{
 "cells": [
  {
   "cell_type": "code",
   "source": [
    "from dotenv import load_dotenv\n",
    "import time\n",
    "load_dotenv()\n",
    "import os\n",
    "from langchain_openai import ChatOpenAI\n",
    "from langchain_community.chat_models import ChatOllama\n",
    "from langchain_core.prompts import ChatPromptTemplate, MessagesPlaceholder\n",
    "from langchain_openai import OpenAIEmbeddings\n",
    "from langchain_core.runnables import RunnablePassthrough\n",
    "from langchain_core.output_parsers import StrOutputParser\n",
    "from langchain_core.messages import HumanMessage\n",
    "from langchain_community.vectorstores import Chroma\n",
    "from langchain_community.document_loaders.csv_loader import CSVLoader\n",
    "from langchain_text_splitters import RecursiveCharacterTextSplitter\n",
    "from module import extract_news, summarize_news"
   ],
   "metadata": {
    "collapsed": false,
    "ExecuteTime": {
     "end_time": "2024-04-08T15:37:14.250052Z",
     "start_time": "2024-04-08T15:37:14.245780Z"
    }
   },
   "outputs": [],
   "execution_count": 38
  },
  {
   "metadata": {
    "ExecuteTime": {
     "end_time": "2024-04-08T15:37:15.525594Z",
     "start_time": "2024-04-08T15:37:15.523465Z"
    }
   },
   "cell_type": "code",
   "source": [
    "openai_key = os.environ[\"OPENAI_API_KEY\"]\n",
    "vigilance_key = os.environ[\"VIGILENCE_API_KEY\"]"
   ],
   "outputs": [],
   "execution_count": 40
  },
  {
   "metadata": {
    "ExecuteTime": {
     "end_time": "2024-04-08T15:37:15.944435Z",
     "start_time": "2024-04-08T15:37:15.915807Z"
    }
   },
   "cell_type": "code",
   "source": "gpt_turbo = ChatOpenAI(model_name=\"gpt-3.5-turbo\")",
   "outputs": [],
   "execution_count": 41
  },
  {
   "metadata": {
    "ExecuteTime": {
     "end_time": "2024-04-08T15:38:56.649561Z",
     "start_time": "2024-04-08T15:38:53.494869Z"
    }
   },
   "cell_type": "code",
   "source": [
    "news = extract_news(vigilance_key)\n",
    "summary = summarize_news(gpt_turbo, news)"
   ],
   "outputs": [],
   "execution_count": 58
  },
  {
   "metadata": {
    "ExecuteTime": {
     "end_time": "2024-04-08T15:38:56.653059Z",
     "start_time": "2024-04-08T15:38:56.650606Z"
    }
   },
   "cell_type": "code",
   "source": "summary",
   "outputs": [
    {
     "data": {
      "text/plain": [
       "AIMessage(content='Alerte météorologique pour la région de la pointe bretonne en raison de la tempête nommée \"PIERRICK\". Des vents forts et des vagues importantes sont attendus, avec un risque de submersion sur les littoraux. Des vigilances orange et jaune sont en place pour différents départements côtiers. La tempête se déplacera vers l\\'est, affectant d\\'autres régions avec des rafales de vent intenses. Il est conseillé de rester vigilant en raison de la conjonction de grandes marées et de conditions météorologiques extrêmes.', response_metadata={'token_usage': {'completion_tokens': 134, 'prompt_tokens': 1357, 'total_tokens': 1491}, 'model_name': 'gpt-3.5-turbo', 'system_fingerprint': 'fp_b28b39ffa8', 'finish_reason': 'stop', 'logprobs': None})"
      ]
     },
     "execution_count": 59,
     "metadata": {},
     "output_type": "execute_result"
    }
   ],
   "execution_count": 59
  },
  {
   "metadata": {
    "ExecuteTime": {
     "end_time": "2024-04-08T15:37:49.421952Z",
     "start_time": "2024-04-08T15:37:49.419307Z"
    }
   },
   "cell_type": "code",
   "source": [
    "path = \"data/Vigilance Table.csv\"\n",
    "loader = CSVLoader(file_path=path)\n",
    "data = loader.load()\n"
   ],
   "outputs": [],
   "execution_count": 48
  },
  {
   "metadata": {
    "ExecuteTime": {
     "end_time": "2024-04-08T15:37:50.399878Z",
     "start_time": "2024-04-08T15:37:50.396903Z"
    }
   },
   "cell_type": "code",
   "source": [
    "text_splitter = RecursiveCharacterTextSplitter(chunk_size=1000, chunk_overlap=200)\n",
    "splits = text_splitter.split_documents(data)"
   ],
   "outputs": [],
   "execution_count": 49
  },
  {
   "metadata": {
    "ExecuteTime": {
     "end_time": "2024-04-08T15:37:51.928873Z",
     "start_time": "2024-04-08T15:37:50.804905Z"
    }
   },
   "cell_type": "code",
   "source": "vectorstore = Chroma.from_documents(documents=splits, embedding=OpenAIEmbeddings())",
   "outputs": [],
   "execution_count": 50
  },
  {
   "metadata": {
    "ExecuteTime": {
     "end_time": "2024-04-08T15:37:51.931647Z",
     "start_time": "2024-04-08T15:37:51.929894Z"
    }
   },
   "cell_type": "code",
   "source": "retriever = vectorstore.as_retriever()",
   "outputs": [],
   "execution_count": 51
  },
  {
   "metadata": {
    "ExecuteTime": {
     "end_time": "2024-04-08T15:37:52.589048Z",
     "start_time": "2024-04-08T15:37:52.586701Z"
    }
   },
   "cell_type": "code",
   "source": [
    "with open(\"contextualize_system_prompt.txt\", \"r\") as files:\n",
    "    contextualize_system_prompt = files.read()\n",
    "\n",
    "with open(\"instruct.txt\", \"r\") as files:\n",
    "    instruct = files.read()"
   ],
   "outputs": [],
   "execution_count": 52
  },
  {
   "cell_type": "code",
   "source": [
    "contextualize_prompt = ChatPromptTemplate.from_messages(\n",
    "    [\n",
    "        (\"system\", contextualize_system_prompt),\n",
    "        MessagesPlaceholder(variable_name=\"chat_history\"),\n",
    "        (\"human\", \"{question}\"),\n",
    "    ]\n",
    ")\n",
    "contextualize_prompt.pretty_print()\n",
    "contextualize_chain = contextualize_prompt | gpt_turbo | StrOutputParser()"
   ],
   "metadata": {
    "collapsed": false,
    "ExecuteTime": {
     "end_time": "2024-04-08T15:37:53.565284Z",
     "start_time": "2024-04-08T15:37:53.562621Z"
    }
   },
   "outputs": [
    {
     "name": "stdout",
     "output_type": "stream",
     "text": [
      "================================\u001B[1m System Message \u001B[0m================================\n",
      "\n",
      "Given a chat history and the latest user question which might reference context in the chat history, formulate a standalone question just reformulate it if needed and otherwise return it as is.\n",
      "\n",
      "\n",
      "=============================\u001B[1m Messages Placeholder \u001B[0m=============================\n",
      "\n",
      "\u001B[33;1m\u001B[1;3m{chat_history}\u001B[0m\n",
      "\n",
      "================================\u001B[1m Human Message \u001B[0m=================================\n",
      "\n",
      "\u001B[33;1m\u001B[1;3m{question}\u001B[0m\n"
     ]
    }
   ],
   "execution_count": 53
  },
  {
   "cell_type": "code",
   "source": [
    "prompt = ChatPromptTemplate.from_messages(\n",
    "    [\n",
    "        (\"system\", instruct),\n",
    "        MessagesPlaceholder(variable_name=\"chat_history\"),\n",
    "        (\"human\", \"{question}\"),\n",
    "    ]\n",
    ")\n",
    "prompt.pretty_print()\n",
    "\n",
    "def contextualized_question(input: dict):\n",
    "    if input.get(\"chat_history\"):\n",
    "        return contextualize_chain\n",
    "    else:\n",
    "        return input[\"question\"]\n",
    "\n",
    "\n",
    "rag_chain = (\n",
    "    RunnablePassthrough.assign(\n",
    "        context=(contextualized_question | retriever)\n",
    "    )\n",
    "    | prompt\n",
    "    | gpt_turbo\n",
    ")"
   ],
   "metadata": {
    "collapsed": false,
    "ExecuteTime": {
     "end_time": "2024-04-08T15:37:54.467466Z",
     "start_time": "2024-04-08T15:37:54.464652Z"
    }
   },
   "outputs": [
    {
     "name": "stdout",
     "output_type": "stream",
     "text": [
      "================================\u001B[1m System Message \u001B[0m================================\n",
      "\n",
      "Tu es un chatbot spécialiser sur les conseils liés aux intempéries qui ne répond UNIQUEMENT qu'en FRANÇAIS,\n",
      "Voici les informations de vigilance d'aujourd'hui et de demain : \u001B[33;1m\u001B[1;3m{vigilance}\u001B[0m\n",
      "Tu peux t'aider du context suivant pour répondre : \u001B[33;1m\u001B[1;3m{context}\u001B[0m\n",
      "\n",
      "\n",
      "=============================\u001B[1m Messages Placeholder \u001B[0m=============================\n",
      "\n",
      "\u001B[33;1m\u001B[1;3m{chat_history}\u001B[0m\n",
      "\n",
      "================================\u001B[1m Human Message \u001B[0m=================================\n",
      "\n",
      "\u001B[33;1m\u001B[1;3m{question}\u001B[0m\n"
     ]
    }
   ],
   "execution_count": 54
  },
  {
   "metadata": {
    "ExecuteTime": {
     "end_time": "2024-04-08T15:39:22.621162Z",
     "start_time": "2024-04-08T15:39:18.156793Z"
    }
   },
   "cell_type": "code",
   "source": [
    "chat_history = []\n",
    "question = (\"Quels sont les risques dans le finistère\")\n",
    "ai_msg = rag_chain.invoke({\"question\": question, \"chat_history\": chat_history, 'vigilance':summary})\n",
    "print(ai_msg.content)"
   ],
   "outputs": [
    {
     "name": "stdout",
     "output_type": "stream",
     "text": [
      "Dans le Finistère, les risques liés à la tempête nommée \"PIERRICK\" sont principalement des vents forts et des vagues importantes, avec un risque de submersion sur les littoraux. Des dégâts importants sont localement à craindre sur l'habitat léger et les installations provisoires sur le rivage et le littoral. Des submersions importantes sont à craindre aux abords des estuaires en période de marée haute de fort coefficient (vives eaux). Il est donc conseillé de se tenir éloigné des côtes et des estuaires, de surveiller la montée des eaux, de protéger les biens qui peuvent être inondés, et de rejoindre le plus haut point possible ou de se réfugier en étage, voire sur le toit en dernier recours.\n"
     ]
    }
   ],
   "execution_count": 60
  },
  {
   "metadata": {
    "ExecuteTime": {
     "end_time": "2024-04-08T15:39:28.980011Z",
     "start_time": "2024-04-08T15:39:22.622549Z"
    }
   },
   "cell_type": "code",
   "source": [
    "chat_history = [HumanMessage(content=question), ai_msg]\n",
    "question = \"Que dois-je faire pour me protéger\"\n",
    "ai_msg = rag_chain.invoke({\"question\": question, \"chat_history\": chat_history, 'vigilance':summary})\n",
    "print(ai_msg.content)"
   ],
   "outputs": [
    {
     "name": "stdout",
     "output_type": "stream",
     "text": [
      "Pour vous protéger lors de la tempête \"PIERRICK\" dans le Finistère, voici quelques recommandations à suivre :\n",
      "\n",
      "1. Protégez votre maison et les biens exposés au vent en renforçant les ouvertures et en sécurisant les objets extérieurs qui pourraient être emportés par le vent.\n",
      "   \n",
      "2. Renseignez-vous régulièrement auprès des autorités locales sur l'évolution de la situation météorologique et les consignes de sécurité à suivre.\n",
      "\n",
      "3. Limitez vos déplacements au strict nécessaire pour éviter de vous mettre en danger inutilement.\n",
      "\n",
      "4. Soyez prudent face aux chutes d'arbres et d'objets qui pourraient être projetés par le vent. Évitez de vous promener en forêt ou sous des arbres fragilisés.\n",
      "\n",
      "5. Ne montez pas sur les toits pour effectuer des réparations ou des vérifications pendant la tempête. Attendez que les conditions météorologiques se stabilisent.\n",
      "\n",
      "6. Si vous utilisez un groupe électrogène, veillez à l'installer à l'extérieur de la maison pour éviter les risques d'intoxication au monoxyde de carbone.\n",
      "\n",
      "En suivant ces conseils de sécurité, vous pourrez mieux vous protéger et faire face aux conditions météorologiques extrêmes liées à la tempête \"PIERRICK\" dans le Finistère.\n"
     ]
    }
   ],
   "execution_count": 61
  },
  {
   "metadata": {
    "ExecuteTime": {
     "end_time": "2024-04-08T15:39:34.099191Z",
     "start_time": "2024-04-08T15:39:28.981296Z"
    }
   },
   "cell_type": "code",
   "source": [
    "chat_history = [HumanMessage(content=question), ai_msg]\n",
    "question = \"Comment me protéger de pierreck en lorainne\"\n",
    "ai_msg = rag_chain.invoke({\"question\": question, \"chat_history\": chat_history, 'vigilance':summary})\n",
    "print(ai_msg.content)"
   ],
   "outputs": [
    {
     "name": "stdout",
     "output_type": "stream",
     "text": [
      "Je suis désolé, mais je ne dispose pas d'informations spécifiques sur les mesures de protection à prendre en Lorraine pour faire face à la tempête \"PIERRICK\" car les informations que j'ai reçues concernent principalement la région de la pointe bretonne. Cependant, je peux vous fournir des conseils généraux pour vous protéger lors d'une tempête :\n",
      "\n",
      "1. Restez informé de l'évolution de la situation météorologique en écoutant les bulletins d'information et en suivant les consignes des autorités locales.\n",
      "\n",
      "2. Protégez votre maison en renforçant les ouvertures, en sécurisant les objets extérieurs et en évitant de vous rendre sur les toits pendant la tempête.\n",
      "\n",
      "3. Limitez vos déplacements au strict nécessaire pour éviter de vous mettre en danger sur la route.\n",
      "\n",
      "4. Éloignez-vous des arbres et des structures fragiles qui pourraient être endommagées par le vent.\n",
      "\n",
      "5. Évitez les zones côtières et les endroits exposés aux vagues et aux risques de submersion.\n",
      "\n",
      "En suivant ces conseils généraux de sécurité, vous pourrez mieux vous protéger en cas de tempête comme \"PIERRICK\" en Lorraine.\n"
     ]
    }
   ],
   "execution_count": 62
  },
  {
   "metadata": {},
   "cell_type": "code",
   "outputs": [],
   "execution_count": null,
   "source": ""
  }
 ],
 "metadata": {
  "kernelspec": {
   "display_name": "llm",
   "language": "python",
   "name": "python3"
  },
  "language_info": {
   "codemirror_mode": {
    "name": "ipython",
    "version": 3
   },
   "file_extension": ".py",
   "mimetype": "text/x-python",
   "name": "python",
   "nbconvert_exporter": "python",
   "pygments_lexer": "ipython3",
   "version": "3.10.13"
  }
 },
 "nbformat": 4,
 "nbformat_minor": 2
}
