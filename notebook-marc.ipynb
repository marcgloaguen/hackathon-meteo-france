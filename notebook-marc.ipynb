{
 "cells": [
  {
   "cell_type": "code",
   "execution_count": 1,
   "id": "initial_id",
   "metadata": {
    "collapsed": true,
    "ExecuteTime": {
     "end_time": "2024-04-04T14:27:19.256406Z",
     "start_time": "2024-04-04T14:27:19.004736Z"
    }
   },
   "outputs": [],
   "source": [
    "import pandas as pd"
   ]
  },
  {
   "cell_type": "code",
   "outputs": [],
   "source": [
    "data = pd.read_csv('data/01_quotidien_2023-2024.csv', sep=';')"
   ],
   "metadata": {
    "collapsed": false,
    "ExecuteTime": {
     "end_time": "2024-04-04T14:27:33.728051Z",
     "start_time": "2024-04-04T14:27:33.702742Z"
    }
   },
   "id": "a464efa771a1e1b0",
   "execution_count": 4
  },
  {
   "cell_type": "code",
   "outputs": [
    {
     "data": {
      "text/plain": "ARBENT                           458\nBALAN_AERO                       458\nST RAMBERT CG01                  458\nSAINT JULIEN SUR REYSSOUZE       458\nNANTUA                           458\nMIJOUX                           458\nMARLIEUX                         458\nLA BALME SUR CERDON_SAPC         458\nDIVONNE ZA                       458\nAMBERIEU                         458\nCEYZERIAT_SAPC                   458\nCESSY                            458\nVERIZIEU                         458\nBELLEY                           458\nSUTRIEU                          456\nBELLEGARDE                       316\nHAUTEVILLE_EDF_RIC-A2-DOUBLON     59\nName: NOM_USUEL, dtype: int64"
     },
     "execution_count": 13,
     "metadata": {},
     "output_type": "execute_result"
    }
   ],
   "source": [
    "data.NOM_USUEL.value_counts()"
   ],
   "metadata": {
    "collapsed": false,
    "ExecuteTime": {
     "end_time": "2024-04-04T14:29:43.201532Z",
     "start_time": "2024-04-04T14:29:43.196216Z"
    }
   },
   "id": "aed5e3ffa26bf306",
   "execution_count": 13
  },
  {
   "cell_type": "code",
   "outputs": [],
   "source": [],
   "metadata": {
    "collapsed": false
   },
   "id": "3f9d125f234a6b59"
  }
 ],
 "metadata": {
  "kernelspec": {
   "display_name": "Python 3",
   "language": "python",
   "name": "python3"
  },
  "language_info": {
   "codemirror_mode": {
    "name": "ipython",
    "version": 2
   },
   "file_extension": ".py",
   "mimetype": "text/x-python",
   "name": "python",
   "nbconvert_exporter": "python",
   "pygments_lexer": "ipython2",
   "version": "2.7.6"
  }
 },
 "nbformat": 4,
 "nbformat_minor": 5
}
