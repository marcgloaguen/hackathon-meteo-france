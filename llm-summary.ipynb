{
 "cells": [
  {
   "cell_type": "code",
   "id": "319ed33edc543181",
   "metadata": {
    "ExecuteTime": {
     "end_time": "2024-04-08T13:54:07.480603Z",
     "start_time": "2024-04-08T13:54:07.162989Z"
    }
   },
   "source": [
    "from langchain_openai import OpenAI\n",
    "from langchain_core.prompts import PromptTemplate\n",
    "from langchain_core.runnables import RunnablePassthrough\n",
    "\n",
    "import requests\n",
    "from dotenv import load_dotenv\n",
    "import os\n",
    "load_dotenv()"
   ],
   "outputs": [
    {
     "data": {
      "text/plain": [
       "True"
      ]
     },
     "execution_count": 2,
     "metadata": {},
     "output_type": "execute_result"
    }
   ],
   "execution_count": 2
  },
  {
   "cell_type": "code",
   "id": "20c864ff1924563f",
   "metadata": {
    "ExecuteTime": {
     "end_time": "2024-04-08T13:54:07.588667Z",
     "start_time": "2024-04-08T13:54:07.481833Z"
    }
   },
   "source": [
    "gpt_turbo = OpenAI(model_name=\"gpt-3.5-turbo-instruct\")"
   ],
   "outputs": [],
   "execution_count": 3
  },
  {
   "cell_type": "code",
   "id": "b039ce3d6dd181d8",
   "metadata": {
    "ExecuteTime": {
     "end_time": "2024-04-08T13:54:07.742348Z",
     "start_time": "2024-04-08T13:54:07.591887Z"
    }
   },
   "source": [
    "url = 'https://public-api.meteofrance.fr/public/DPVigilance/v1/textesvigilance/encours'\n",
    "headers = {\n",
    "    'accept': '*/*',\n",
    "    'apikey': os.environ['VIGILENCE_API_KEY']\n",
    "}\n",
    "response = requests.get(url, headers=headers)\n",
    "data = response.json()"
   ],
   "outputs": [],
   "execution_count": 4
  },
  {
   "cell_type": "code",
   "id": "13481b61a92a86b9",
   "metadata": {
    "ExecuteTime": {
     "end_time": "2024-04-08T13:54:07.751364Z",
     "start_time": "2024-04-08T13:54:07.746271Z"
    }
   },
   "source": [
    "def extract_text_items(data):\n",
    "    text_items = []\n",
    "    infos = [\n",
    "        region for region in data['product']['text_bloc_items'] \n",
    "        if len(region['bloc_items']) != 0 and region['bloc_id']=='BULLETIN_DEPARTEMENTAL'\n",
    "    ]\n",
    "    for info in infos:\n",
    "        for bloc_item in info.get('bloc_items', []):\n",
    "            for text_item in bloc_item.get('text_items', []):\n",
    "                for subdivision in text_item.get('term_items', []):\n",
    "                    for subdivision_text in subdivision.get('subdivision_text', []):\n",
    "                        text_items.append(\"\".join(subdivision_text.get('text', '')))\n",
    "    return text_items"
   ],
   "outputs": [],
   "execution_count": 5
  },
  {
   "cell_type": "code",
   "id": "d1031afc5c224e31",
   "metadata": {
    "ExecuteTime": {
     "end_time": "2024-04-08T13:54:07.755704Z",
     "start_time": "2024-04-08T13:54:07.753144Z"
    }
   },
   "source": [
    "infos = list(set(extract_text_items(data)))"
   ],
   "outputs": [],
   "execution_count": 6
  },
  {
   "cell_type": "code",
   "id": "b2bd6640312c4bb4",
   "metadata": {
    "ExecuteTime": {
     "end_time": "2024-04-08T13:54:07.760014Z",
     "start_time": "2024-04-08T13:54:07.757884Z"
    }
   },
   "source": [
    "template = \"\"\"\n",
    "Write a concise summary in french of the following:\n",
    "\"{informations}\"\n",
    "CONCISE SUMMARY:\n",
    "\"\"\""
   ],
   "outputs": [],
   "execution_count": 7
  },
  {
   "cell_type": "code",
   "id": "92488992cc354293",
   "metadata": {
    "ExecuteTime": {
     "end_time": "2024-04-08T13:54:07.763185Z",
     "start_time": "2024-04-08T13:54:07.761047Z"
    }
   },
   "source": [
    "prompt = PromptTemplate.from_template(template)\n"
   ],
   "outputs": [],
   "execution_count": 8
  },
  {
   "cell_type": "code",
   "id": "f0abcf998b01122b",
   "metadata": {
    "ExecuteTime": {
     "end_time": "2024-04-08T13:54:07.765644Z",
     "start_time": "2024-04-08T13:54:07.763814Z"
    }
   },
   "source": [
    "chain = (\n",
    "    {'informations':RunnablePassthrough()} \n",
    "    | prompt \n",
    "    | gpt_turbo\n",
    ")"
   ],
   "outputs": [],
   "execution_count": 9
  },
  {
   "cell_type": "code",
   "id": "ff55ff2d52c7c538",
   "metadata": {
    "ExecuteTime": {
     "end_time": "2024-04-08T13:54:07.768494Z",
     "start_time": "2024-04-08T13:54:07.766330Z"
    }
   },
   "source": [
    "infos"
   ],
   "outputs": [
    {
     "data": {
      "text/plain": [
       "['Conjonction de grandes marées et de fortes vagues nécessitant une vigilance toute particulière.',\n",
       " 'Tempête tardive pour la saison, sans caractère exceptionnel, engendrant des vents violents, de fortes vagues et un risque de submersion côtière.',\n",
       " 'Lundi, \"PIERRICK\" est accompagnée de vents très forts de secteur Ouest au large de la pointe bretonne.Ces vents engendrent de fortes vagues de Sud-Ouest qui atteignent le littoral nord de la façade atlantique en fin de journée de lundi et sont particulièrement marquées sur l\\'ouest du Finistère.De plus, les niveaux d\\'eau sont élevés avec des coefficients de marée en hausse (109 à la pleine mer de lundi 18h) et une surélévation du niveau de la mer due aux conditions atmosphériques (surcote).La conjonction de ces très fortes vagues et de ces niveaux d\\'eau élevés peut occasionner des submersions marines par franchissement de paquets de mer sur les zones exposées du littoral du Finistère lundi en fin de journée, placé en vigilance \"vagues-submersion\" orange.Dans une moindre mesure, le littoral du Morbihan, de la Loire-Atlantique et de la Vendée est placé en vigilance jaune \"vagues-submersion\".Heure de pleine mer à Brest lundi : 17h50.',\n",
       " 'Une incertitude persiste sur le positionnement exacte du creusement lié à PIERRICK. Ainsi on privilégie un scénario avec de violentes rafales (autour de 110 km/h dans les terres) principalement sur un quart nord-Ouest du Finistère et proche du littoral, mais un positionnement légèrement plus sud pourrait apporter également des vents d\\'une violence similaire sur le sud du département. Une aggravation de la vigilance \"vagues-submersion\" pour les départements de l\\'est de la Manche n\\'est pas exclue pour la marée haute de mardi après-midi.',\n",
       " \"Faits nouveaux : passage en vigilance orange vent violents sur le Finistère pour un début d'évènement à 16h ce lundi. Situation générale : Une dépression nommée PIERRICK se présente en entrée de Manche, proche du nord Finistère en ce début d'après-midi de lundi puis circule le long des côtes sud de l'Angleterre, engendrant des vents violents et un risque de vagues-submersion.\",\n",
       " \"La dépression PIERRICK concerne dans un premier temps le Finistère cet après-midi jusqu'en soirée. La dépression se décale ensuite vers l'est et donne encore de fortes rafales sur le département des Côtes d'Armor puis concerne le département de la Manche la nuit suivante. On attend 120 à 130 km/h sur les îles et à la côte du Finistère, autour de 110 km/h proche des littoraux et sur un quart nord-ouest du Finistère, 90 à ponctuellement plus de 100 km/h ailleurs sur le département. \",\n",
       " 'Mardi, \"PIERRICK\" circule sur l\\'Angleterre et se décale en Mer du Nord.Dans sa partie sud, les vents de secteur Ouest sont forts en Manche et génèrent de fortes vagues.Dans un contexte de grandes marées, la conjonction de hauts niveaux d\\'eau et de fortes vagues induit un risque marqué de \"vagues-submersion\" autour de la marée haute de mardi matin (coefficient 112) pour les départements du Finistère, des Côtes-d\\'Armor, de l\\'Ille-et-Vilaine et de l\\'ouest de la Manche, placés en vigilance \"vagues-submersion\" de niveau orange. Les heures de pleines mers sont les suivantes : Roscoff 07h25, Paimpol 08h26, Saint-Malo 08h31, Granville 08h40.Dans le même temps, une houle de Nord-Ouest se propage dans le golfe de Gascogne. Tous les départements de la façade atlantique sont alors placés en vigilance \"vagues-submersion\" de niveau jaune pour mardi matin. La pleine mer est entre 05h30 et 06h.Pour la marée haute de mardi après-midi, les départements du Calvados, de la Seine-Maritime, de la Somme et du Pas de Calais sont placés en vigilance vagues-submersion de niveau jaune.La pleine mer est vers 12h au Havre et 13h30 à Boulogne-sur-Mer.']"
      ]
     },
     "execution_count": 10,
     "metadata": {},
     "output_type": "execute_result"
    }
   ],
   "execution_count": 10
  },
  {
   "cell_type": "code",
   "id": "815c7a3a3cb1eaa",
   "metadata": {
    "ExecuteTime": {
     "end_time": "2024-04-08T13:54:09.856963Z",
     "start_time": "2024-04-08T13:54:07.770380Z"
    }
   },
   "source": [
    "answer = chain.invoke(infos)\n",
    "print(answer)"
   ],
   "outputs": [
    {
     "name": "stdout",
     "output_type": "stream",
     "text": [
      "\n",
      "Une tempête tardive combinant de fortes marées et des vagues nécessite une vigilance particulière. La dépression nommée \"PIERRICK\" circule le long des côtes et génère des vents violents et un risque de submersion côtière. Le Finistère est particulièrement touché, avec des vents pouvant atteindre 110 km/h. Les départements de la Manche pourraient également être concernés. Le mardi, la tempête se déplace vers l'Angleterre, provoquant des vents forts et des vagues importantes. Les départements côtiers sont en vigilance pour risque de submersion. \n"
     ]
    }
   ],
   "execution_count": 11
  },
  {
   "metadata": {},
   "cell_type": "code",
   "outputs": [],
   "execution_count": null,
   "source": "",
   "id": "b202399f986818f3"
  }
 ],
 "metadata": {
  "kernelspec": {
   "display_name": "Python 3",
   "language": "python",
   "name": "python3"
  },
  "language_info": {
   "codemirror_mode": {
    "name": "ipython",
    "version": 2
   },
   "file_extension": ".py",
   "mimetype": "text/x-python",
   "name": "python",
   "nbconvert_exporter": "python",
   "pygments_lexer": "ipython2",
   "version": "3.11.5"
  }
 },
 "nbformat": 4,
 "nbformat_minor": 5
}
